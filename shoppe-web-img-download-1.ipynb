{
 "cells": [
  {
   "cell_type": "code",
   "execution_count": 1,
   "id": "d9f702fc",
   "metadata": {
    "execution": {
     "iopub.execute_input": "2022-04-30T16:37:51.223854Z",
     "iopub.status.busy": "2022-04-30T16:37:51.223269Z",
     "iopub.status.idle": "2022-04-30T16:37:51.231526Z",
     "shell.execute_reply": "2022-04-30T16:37:51.230876Z"
    },
    "papermill": {
     "duration": 0.017923,
     "end_time": "2022-04-30T16:37:51.233468",
     "exception": false,
     "start_time": "2022-04-30T16:37:51.215545",
     "status": "completed"
    },
    "tags": []
   },
   "outputs": [],
   "source": [
    "import urllib.request\n",
    "import os\n",
    "import pandas as pd\n",
    "import random\n",
    "from threading import Thread\n",
    "from time import time, sleep"
   ]
  },
  {
   "cell_type": "code",
   "execution_count": 2,
   "id": "ac55e0ea",
   "metadata": {
    "execution": {
     "iopub.execute_input": "2022-04-30T16:37:51.245225Z",
     "iopub.status.busy": "2022-04-30T16:37:51.244662Z",
     "iopub.status.idle": "2022-04-30T16:37:52.480081Z",
     "shell.execute_reply": "2022-04-30T16:37:52.478969Z"
    },
    "papermill": {
     "duration": 1.243513,
     "end_time": "2022-04-30T16:37:52.482140",
     "exception": false,
     "start_time": "2022-04-30T16:37:51.238627",
     "status": "completed"
    },
    "tags": []
   },
   "outputs": [],
   "source": [
    "df = pd.read_csv('../input/shopee-web-crawler/product.csv')\n",
    "img_id_list = list(df['item_id'])\n",
    "imagepath_list = list(df['image'])"
   ]
  },
  {
   "cell_type": "code",
   "execution_count": 3,
   "id": "e8722ac7",
   "metadata": {
    "execution": {
     "iopub.execute_input": "2022-04-30T16:37:52.494118Z",
     "iopub.status.busy": "2022-04-30T16:37:52.493777Z",
     "iopub.status.idle": "2022-04-30T16:37:52.499029Z",
     "shell.execute_reply": "2022-04-30T16:37:52.497987Z"
    },
    "papermill": {
     "duration": 0.014205,
     "end_time": "2022-04-30T16:37:52.501479",
     "exception": false,
     "start_time": "2022-04-30T16:37:52.487274",
     "status": "completed"
    },
    "tags": []
   },
   "outputs": [],
   "source": [
    "#建立資料夾\n",
    "save_dir = f'/kaggle/tmp/shoppe/'\n",
    "os.makedirs(save_dir, exist_ok=True)\n"
   ]
  },
  {
   "cell_type": "code",
   "execution_count": 4,
   "id": "856be07c",
   "metadata": {
    "execution": {
     "iopub.execute_input": "2022-04-30T16:37:52.513743Z",
     "iopub.status.busy": "2022-04-30T16:37:52.513440Z",
     "iopub.status.idle": "2022-04-30T17:56:12.942270Z",
     "shell.execute_reply": "2022-04-30T17:56:12.938428Z"
    },
    "papermill": {
     "duration": 4700.445579,
     "end_time": "2022-04-30T17:56:12.952780",
     "exception": false,
     "start_time": "2022-04-30T16:37:52.507201",
     "status": "completed"
    },
    "tags": []
   },
   "outputs": [],
   "source": [
    "\n",
    "\n",
    "def download(start, end):\n",
    "    for i in range(start, end):\n",
    "        imagepath = imagepath_list[i]\n",
    "        img_id = img_id_list[i]\n",
    "\n",
    "        urllib.request.urlretrieve(f\"https://cf.shopee.tw/file/{imagepath}\",\n",
    "        f\"/kaggle/tmp/shoppe/{img_id}.jpg\")\n",
    "#多線程下載\n",
    "def download_thread(i, num):\n",
    "    \n",
    "    t1 = Thread (target = download, args =(int(num*i), int(num*i+num/4)))\n",
    "    t1.start()\n",
    "    t2 = Thread (target = download, args =(int(num*i+num/4), int(num*i+num/2)))\n",
    "    t2.start()\n",
    "    t3 = Thread (target = download, args =(int(num*i+num/2), int(num*i+num/4*3)))\n",
    "    t3.start()\n",
    "    t4 = Thread (target = download, args =(int(num*i+num/4*3), int(num*i+num)))\n",
    "    t4.start()\n",
    "    t1.join()\n",
    "    t2.join()\n",
    "    t3.join()\n",
    "    t4.join()\n",
    "    sleep(random.uniform(2, 4))\n",
    "        \n",
    "num = 1000\n",
    "# 分割6部分下載\n",
    "part1 = int(len(img_id_list)/num / 6)\n",
    "part2 = int(len(img_id_list)/num / 6 *2)\n",
    "part3 = int(len(img_id_list)/num / 6 *3)\n",
    "part4 = int(len(img_id_list)/num / 6 *4)\n",
    "part5 = int(len(img_id_list)/num / 6 *5)\n",
    "part6 = int(len(img_id_list)/num) \n",
    "\n",
    "for i in range(0, part1):\n",
    "    download_thread(i, num)"
   ]
  },
  {
   "cell_type": "code",
   "execution_count": 5,
   "id": "bd24e824",
   "metadata": {
    "execution": {
     "iopub.execute_input": "2022-04-30T17:56:12.978959Z",
     "iopub.status.busy": "2022-04-30T17:56:12.978405Z",
     "iopub.status.idle": "2022-04-30T17:59:20.436956Z",
     "shell.execute_reply": "2022-04-30T17:59:20.435821Z"
    },
    "papermill": {
     "duration": 187.479288,
     "end_time": "2022-04-30T17:59:20.446071",
     "exception": false,
     "start_time": "2022-04-30T17:56:12.966783",
     "status": "completed"
    },
    "tags": []
   },
   "outputs": [
    {
     "name": "stdout",
     "output_type": "stream",
     "text": [
      "CPU times: user 3.24 s, sys: 496 ms, total: 3.74 s\n",
      "Wall time: 3min 7s\n"
     ]
    }
   ],
   "source": [
    "%%time\n",
    "!tar -zcf image.tar.gz -C \"/kaggle/tmp/shoppe/\" ."
   ]
  }
 ],
 "metadata": {
  "kernelspec": {
   "display_name": "Python 3",
   "language": "python",
   "name": "python3"
  },
  "language_info": {
   "codemirror_mode": {
    "name": "ipython",
    "version": 3
   },
   "file_extension": ".py",
   "mimetype": "text/x-python",
   "name": "python",
   "nbconvert_exporter": "python",
   "pygments_lexer": "ipython3",
   "version": "3.7.12"
  },
  "papermill": {
   "default_parameters": {},
   "duration": 4899.362877,
   "end_time": "2022-04-30T17:59:21.690595",
   "environment_variables": {},
   "exception": null,
   "input_path": "__notebook__.ipynb",
   "output_path": "__notebook__.ipynb",
   "parameters": {},
   "start_time": "2022-04-30T16:37:42.327718",
   "version": "2.3.4"
  }
 },
 "nbformat": 4,
 "nbformat_minor": 5
}
